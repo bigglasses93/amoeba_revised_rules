{
 "cells": [
  {
   "cell_type": "markdown",
   "metadata": {},
   "source": [
    "### Initialize"
   ]
  },
  {
   "cell_type": "code",
   "execution_count": 1,
   "metadata": {},
   "outputs": [],
   "source": [
    "ONU = 4\n",
    "CHANNEL = 4\n",
    "GROUP = 4"
   ]
  },
  {
   "cell_type": "code",
   "execution_count": 2,
   "metadata": {},
   "outputs": [],
   "source": [
    "J = ONU\n",
    "G= GROUP\n",
    "W = CHANNEL\n",
    "Slot = GROUP * CHANNEL"
   ]
  },
  {
   "cell_type": "code",
   "execution_count": 3,
   "metadata": {},
   "outputs": [],
   "source": [
    "import numpy as np\n",
    "import csv\n",
    "\n",
    "# make output file\n",
    "path = f'test_{ONU}_{GROUP}_{CHANNEL}.cnf.txt'\n",
    "with open(path, mode='w') as outfile:\n",
    "    outfile.write('')"
   ]
  },
  {
   "cell_type": "markdown",
   "metadata": {},
   "source": [
    "\n",
    "$$ x_{i} \\lor \\lnot y_{i,p} \\quad \\forall i,p $$"
   ]
  },
  {
   "cell_type": "code",
   "execution_count": 4,
   "metadata": {},
   "outputs": [],
   "source": [
    "for i in range(J):\n",
    "    tmp_one = 1 + i\n",
    "    for p in range(Slot):\n",
    "        tmp_l = tmp_one\n",
    "        tmp_r = - (1 + i*Slot + p)\n",
    "        with open(path, mode='a') as outfile:\n",
    "            outfile.write(str(tmp_l) + ' ' + str(tmp_r) + ' 0\\n')"
   ]
  },
  {
   "cell_type": "markdown",
   "metadata": {},
   "source": [
    "\n",
    "$$ \\lnot x_{i} \\lor y_{i,1} \\lor y_{1,2} \\lor \\dots  \\lor y_{i,N_{p}}$$"
   ]
  },
  {
   "cell_type": "code",
   "execution_count": 5,
   "metadata": {},
   "outputs": [],
   "source": [
    "for i in range(J):\n",
    "    tmp_one = -(1 + i)\n",
    "    with open(path, mode='a') as outfile:\n",
    "        outfile.write(str(tmp_one) + ' ')\n",
    "    for p in range(Slot):\n",
    "        tmp_p = p + i*Slot\n",
    "        with open(path, mode='a') as outfile:\n",
    "            outfile.write(str(tmp_p) + ' ')\n",
    "    with open(path, mode='a') as outfile:\n",
    "        outfile.write('0\\n')\n"
   ]
  },
  {
   "cell_type": "markdown",
   "metadata": {},
   "source": [
    "\n",
    "$$ \\lnot y_{i,p} \\lor \\lnot y_{i,q} \\quad \\forall i,p,q $$"
   ]
  },
  {
   "cell_type": "code",
   "execution_count": 6,
   "metadata": {},
   "outputs": [],
   "source": [
    "for i in range(J):\n",
    "    tmp_one = 1 + i * Slot\n",
    "    for p in range(Slot):\n",
    "        for q in range(p+1, Slot):\n",
    "            tmp_p = - (tmp_one + p)\n",
    "            tmp_q = - (tmp_one + q)\n",
    "            with open(path, mode='a') as outfile:\n",
    "                outfile.write(str(tmp_p) + ' ' + str(tmp_q) + ' 0\\n')"
   ]
  },
  {
   "cell_type": "markdown",
   "metadata": {},
   "source": [
    "\n",
    "$$ \\lnot y_{i,p} \\lor \\lnot y_{j,p} \\quad \\forall i,j,p $$"
   ]
  },
  {
   "cell_type": "code",
   "execution_count": 7,
   "metadata": {},
   "outputs": [],
   "source": [
    "for i in range(J):\n",
    "    for j in range(i+1,J):\n",
    "        tmp_one_i = 1 + i * Slot\n",
    "        tmp_one_j = 1 + j * Slot\n",
    "    for p in range(Slot):\n",
    "        tmp_p = - (tmp_one_i + p)\n",
    "        tmp_q = - (tmp_one_j + p)\n",
    "        with open(path, mode='a') as outfile:\n",
    "            outfile.write(str(tmp_p) + ' ' + str(tmp_q) + ' 0\\n')"
   ]
  }
 ],
 "metadata": {
  "kernelspec": {
   "display_name": "Python 3",
   "language": "python",
   "name": "python3"
  },
  "language_info": {
   "codemirror_mode": {
    "name": "ipython",
    "version": 3
   },
   "file_extension": ".py",
   "mimetype": "text/x-python",
   "name": "python",
   "nbconvert_exporter": "python",
   "pygments_lexer": "ipython3",
   "version": "3.7.6"
  }
 },
 "nbformat": 4,
 "nbformat_minor": 2
}
