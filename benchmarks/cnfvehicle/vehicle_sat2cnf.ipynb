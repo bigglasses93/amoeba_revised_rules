{
 "cells": [
  {
   "cell_type": "markdown",
   "metadata": {},
   "source": [
    "### Initialize"
   ]
  },
  {
   "cell_type": "code",
   "execution_count": 1,
   "metadata": {},
   "outputs": [],
   "source": [
    "import numpy as np\n",
    "import csv\n",
    "\n",
    "N = 10 # Node 24\n",
    "F = 4 # Flow 22\n",
    "H = 4 # Time 6\n",
    "SetD = np.array([8, 9]) # DU node 22, 23\n",
    "\n",
    "MinLink = 4\n",
    "MaxLink = 4\n",
    "\n",
    "# make output file\n",
    "path = f'test{MinLink}{MaxLink}_{N}_{F}_{H}.cnf.txt'\n",
    "with open(path, mode='w') as outfile:\n",
    "    outfile.write('')"
   ]
  },
  {
   "cell_type": "markdown",
   "metadata": {},
   "source": [
    "### Random link"
   ]
  },
  {
   "cell_type": "code",
   "execution_count": 2,
   "metadata": {},
   "outputs": [
    {
     "name": "stdout",
     "output_type": "stream",
     "text": [
      "[[1, 0, 0, 0, 1, 0, 1, 1, 0, 1], [0, 1, 0, 1, 1, 0, 1, 0, 1, 0], [0, 0, 1, 1, 1, 0, 0, 1, 0, 0], [0, 1, 1, 1, 0, 0, 0, 0, 0, 0], [1, 1, 1, 0, 1, 0, 1, 0, 0, 0], [0, 0, 0, 0, 0, 1, 0, 0, 1, 0], [1, 1, 0, 0, 1, 0, 1, 0, 1, 0], [1, 0, 1, 0, 0, 0, 0, 1, 0, 1], [0, 0, 0, 0, 0, 0, 0, 0, 1, 0], [0, 0, 0, 0, 0, 0, 0, 0, 0, 1]]\n"
     ]
    }
   ],
   "source": [
    "import random\n",
    "\n",
    "Link = [[0 for i in range(N)] for j in range(N)]\n",
    "num_link = np.zeros(N, dtype=int)\n",
    "\n",
    "for i in range(N):\n",
    "    while num_link[i] < MinLink:\n",
    "        tmp_dst = random.randrange(N)\n",
    "        if num_link[tmp_dst] < MaxLink:\n",
    "            Link[i][tmp_dst] = 1\n",
    "            num_link[i] += 1\n",
    "            Link[tmp_dst][i] = 1\n",
    "            num_link[tmp_dst] += 1\n",
    "\n",
    "for d in range(len(SetD)):\n",
    "    for j in range(N):\n",
    "        Link[SetD[d]][j] = 0 # DU is destination\n",
    "\n",
    "for i in range(N):\n",
    "    Link[i][i] = 1 # i -> i is queuing\n",
    "\n",
    "print(Link)\n",
    "np.savetxt(f'link_{N}_{F}_{H}.txt', Link, delimiter=' ', fmt='%.0f')\n"
   ]
  },
  {
   "cell_type": "code",
   "execution_count": 3,
   "metadata": {},
   "outputs": [],
   "source": [
    "# read link file\n",
    "\n",
    "#with open('link.csv') as linkfile:\n",
    "#    SetLstr = list(csv.reader(linkfile))\n",
    "#    SetL = []\n",
    "#    for i in range(len(SetLstr)):\n",
    "#        SetL.append([int(SetLstr[i][j]) for j in range(len(SetLstr[i]))])\n",
    "#print(SetL)\n"
   ]
  },
  {
   "cell_type": "markdown",
   "metadata": {},
   "source": [
    "### A flow is at either one of the nodes at each time slot: \n",
    "$$ x_{f,h,1} \\lor x_{f,h,2} \\lor ... \\lor x_{f,h,N} \\forall f,h $$\n"
   ]
  },
  {
   "cell_type": "code",
   "execution_count": 4,
   "metadata": {},
   "outputs": [],
   "source": [
    "for f in range(F):\n",
    "    for h in range(H):\n",
    "        tmp_node = np.ones(N, dtype=int)\n",
    "        tmp_one = 1 + f*H*N + h*N\n",
    "        for n in range(N):\n",
    "            tmp_node[n] = tmp_one + n\n",
    "        tmp_ln = ' '.join(map(str, tmp_node))\n",
    "        with open(path, mode='a') as outfile:\n",
    "            outfile.write(tmp_ln + ' 0\\n')\n"
   ]
  },
  {
   "cell_type": "markdown",
   "metadata": {},
   "source": [
    "### A flow cannot be at multiple nodes at the same time: \n",
    "$$ \\lnot x_{f,h,i} \\lor \\lnot x_{f,h,j} \\forall f,h,i,j $$\n"
   ]
  },
  {
   "cell_type": "code",
   "execution_count": 5,
   "metadata": {},
   "outputs": [],
   "source": [
    "for f in range(F):\n",
    "    for h in range(H):\n",
    "        tmp_one = 1 + f*H*N + h*N\n",
    "        for i in range(N):\n",
    "            for j in range(i+1, N):\n",
    "                tmp_i = - (tmp_one + i)\n",
    "                tmp_j = - (tmp_one + j)\n",
    "                with open(path, mode='a') as outfile:\n",
    "                    outfile.write(str(tmp_i) + ' ' + str(tmp_j) + ' 0\\n')\n"
   ]
  },
  {
   "cell_type": "markdown",
   "metadata": {},
   "source": [
    "### A flow can be forwarded from i-th node to j-th node only if connected: \n",
    "$$ \\lnot x_{f,h,i} \\lor \\lnot x_{f,h+1,j} \\quad \\forall f,h,i,j \\quad s.t. \\quad l_{i,j} = 0 $$\n"
   ]
  },
  {
   "cell_type": "code",
   "execution_count": 6,
   "metadata": {},
   "outputs": [],
   "source": [
    "for f in range(F):\n",
    "    for h in range(H-1):\n",
    "        tmp_one = 1 + f*H*N + h*N\n",
    "        for i in range(N):\n",
    "            for j in range(N):\n",
    "                tmp_i = - (tmp_one + i)\n",
    "                tmp_j = - (tmp_one + N + j)\n",
    "                if Link[i][j] == 0:\n",
    "                    with open(path, mode='a') as outfile:\n",
    "                        outfile.write(str(tmp_i) + ' ' + str(tmp_j) + ' 0\\n')\n"
   ]
  },
  {
   "cell_type": "markdown",
   "metadata": {},
   "source": [
    "### The source node of f-th flow at 0-th time slot: \n",
    "$$ x_{f,0,s_{f}} \\quad \\forall f $$\n"
   ]
  },
  {
   "cell_type": "code",
   "execution_count": 7,
   "metadata": {},
   "outputs": [],
   "source": [
    "for f in range(F):\n",
    "    tmp_one = 1 + f*H*N + 0*N\n",
    "    tmp_sf = tmp_one + f # s_f = f\n",
    "    with open(path, mode='a') as outfile:\n",
    "        outfile.write(str(tmp_sf) + ' 0\\n')\n"
   ]
  },
  {
   "cell_type": "markdown",
   "metadata": {},
   "source": [
    "### A flow has reached either one of DUs at H-th time slot: \n",
    "$$ x_{f,H,1} \\lor x_{f,H,2} \\dots \\lor x_{f,H,d} \\lor \\dots \\lor x_{f,H,D} $$\n"
   ]
  },
  {
   "cell_type": "code",
   "execution_count": 8,
   "metadata": {},
   "outputs": [],
   "source": [
    "for f in range(F):\n",
    "    tmp_one = 1 + f*H*N + (H-1)*N\n",
    "    for d in range(len(SetD)):\n",
    "        tmp_d = tmp_one + SetD[d]\n",
    "        with open(path, mode='a') as outfile:\n",
    "            outfile.write(str(tmp_d) + ' ')\n",
    "    with open(path, mode='a') as outfile:\n",
    "        outfile.write('0\\n')\n"
   ]
  },
  {
   "cell_type": "markdown",
   "metadata": {},
   "source": [
    "### Only one flow can be forwarded by a link at the same time slot: \n",
    "$$ \\lnot x_{f,h,i} \\lor \\lnot x_{f,h+1,j} \\lor \\lnot x_{g,h,i} \\lor \\lnot x_{g,h+1,j} \\quad \\forall f,g,h,i,j $$\n"
   ]
  },
  {
   "cell_type": "code",
   "execution_count": 9,
   "metadata": {},
   "outputs": [],
   "source": [
    "for f in range(F):\n",
    "    for g in range(f+1, F):\n",
    "        for h in range(H-1):\n",
    "            tmp_one_f = 1 + f*H*N + h*N\n",
    "            tmp_one_g = 1 + g*H*N + h*N\n",
    "            for i in range(N):\n",
    "                for j in range(i+1, N):\n",
    "                    tmp_i_f = - (tmp_one_f + i)\n",
    "                    tmp_j_f = - (tmp_one_f + N + j)\n",
    "                    tmp_i_g = - (tmp_one_g + i)\n",
    "                    tmp_j_g = - (tmp_one_g + N + j)\n",
    "                    with open(path, mode='a') as outfile:\n",
    "                        outfile.write(str(tmp_i_f) + ' ' + str(tmp_j_f) + ' ' + str(tmp_i_g) + ' ' + str(tmp_j_g) + ' 0\\n')\n"
   ]
  },
  {
   "cell_type": "code",
   "execution_count": null,
   "metadata": {},
   "outputs": [],
   "source": []
  }
 ],
 "metadata": {
  "kernelspec": {
   "display_name": "Python 3",
   "language": "python",
   "name": "python3"
  },
  "language_info": {
   "codemirror_mode": {
    "name": "ipython",
    "version": 3
   },
   "file_extension": ".py",
   "mimetype": "text/x-python",
   "name": "python",
   "nbconvert_exporter": "python",
   "pygments_lexer": "ipython3",
   "version": "3.7.6"
  }
 },
 "nbformat": 4,
 "nbformat_minor": 2
}
